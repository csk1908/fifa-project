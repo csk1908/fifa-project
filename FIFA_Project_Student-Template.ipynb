{
 "cells": [
  {
   "cell_type": "code",
   "execution_count": 1,
   "metadata": {},
   "outputs": [],
   "source": [
    "# import the modules\n",
    "import pandas as pd\n",
    "import numpy as np\n",
    "import matplotlib.pyplot as plt\n",
    "from sklearn.linear_model import LinearRegression\n",
    "from sklearn.model_selection import train_test_split\n",
    "from sklearn.metrics import mean_squared_error, r2_score\n",
    "import seaborn as sns\n",
    "import warnings\n",
    "warnings.filterwarnings(\"ignore\")"
   ]
  },
  {
   "cell_type": "markdown",
   "metadata": {},
   "source": [
    "### Load the dataset\n",
    "\n",
    "- Load the train data and using all your knowledge of pandas try to explore the different statistical properties of the dataset."
   ]
  },
  {
   "cell_type": "code",
   "execution_count": 2,
   "metadata": {},
   "outputs": [
    {
     "data": {
      "text/html": [
       "<div>\n",
       "<style scoped>\n",
       "    .dataframe tbody tr th:only-of-type {\n",
       "        vertical-align: middle;\n",
       "    }\n",
       "\n",
       "    .dataframe tbody tr th {\n",
       "        vertical-align: top;\n",
       "    }\n",
       "\n",
       "    .dataframe thead th {\n",
       "        text-align: right;\n",
       "    }\n",
       "</style>\n",
       "<table border=\"1\" class=\"dataframe\">\n",
       "  <thead>\n",
       "    <tr style=\"text-align: right;\">\n",
       "      <th></th>\n",
       "      <th>Id</th>\n",
       "      <th>Name</th>\n",
       "      <th>Age</th>\n",
       "      <th>Nationality</th>\n",
       "      <th>Overall</th>\n",
       "      <th>Potential</th>\n",
       "      <th>Club</th>\n",
       "      <th>Value (M)</th>\n",
       "      <th>Wage (M)</th>\n",
       "      <th>Position</th>\n",
       "    </tr>\n",
       "  </thead>\n",
       "  <tbody>\n",
       "    <tr>\n",
       "      <th>0</th>\n",
       "      <td>17221</td>\n",
       "      <td>F. Burdenski</td>\n",
       "      <td>25</td>\n",
       "      <td>Germany</td>\n",
       "      <td>54</td>\n",
       "      <td>58</td>\n",
       "      <td>Korona Kielce</td>\n",
       "      <td>0.07</td>\n",
       "      <td>0.001</td>\n",
       "      <td>CDM</td>\n",
       "    </tr>\n",
       "    <tr>\n",
       "      <th>1</th>\n",
       "      <td>11353</td>\n",
       "      <td>A. Deiola</td>\n",
       "      <td>21</td>\n",
       "      <td>Italy</td>\n",
       "      <td>64</td>\n",
       "      <td>73</td>\n",
       "      <td>Cagliari</td>\n",
       "      <td>0.70</td>\n",
       "      <td>0.010</td>\n",
       "      <td>CM</td>\n",
       "    </tr>\n",
       "    <tr>\n",
       "      <th>2</th>\n",
       "      <td>3402</td>\n",
       "      <td>T. Castagne</td>\n",
       "      <td>21</td>\n",
       "      <td>Belgium</td>\n",
       "      <td>72</td>\n",
       "      <td>79</td>\n",
       "      <td>Atalanta</td>\n",
       "      <td>3.70</td>\n",
       "      <td>0.013</td>\n",
       "      <td>RB</td>\n",
       "    </tr>\n",
       "    <tr>\n",
       "      <th>3</th>\n",
       "      <td>16071</td>\n",
       "      <td>D. Gorman</td>\n",
       "      <td>21</td>\n",
       "      <td>Northern Ireland</td>\n",
       "      <td>57</td>\n",
       "      <td>66</td>\n",
       "      <td>Stevenage</td>\n",
       "      <td>0.16</td>\n",
       "      <td>0.002</td>\n",
       "      <td>CM</td>\n",
       "    </tr>\n",
       "    <tr>\n",
       "      <th>4</th>\n",
       "      <td>12380</td>\n",
       "      <td>N. Molina Lucero</td>\n",
       "      <td>19</td>\n",
       "      <td>Argentina</td>\n",
       "      <td>63</td>\n",
       "      <td>75</td>\n",
       "      <td>Boca Juniors</td>\n",
       "      <td>0.55</td>\n",
       "      <td>0.002</td>\n",
       "      <td>LB</td>\n",
       "    </tr>\n",
       "  </tbody>\n",
       "</table>\n",
       "</div>"
      ],
      "text/plain": [
       "      Id              Name  Age       Nationality  Overall  Potential  \\\n",
       "0  17221      F. Burdenski   25           Germany       54         58   \n",
       "1  11353         A. Deiola   21             Italy       64         73   \n",
       "2   3402       T. Castagne   21           Belgium       72         79   \n",
       "3  16071         D. Gorman   21  Northern Ireland       57         66   \n",
       "4  12380  N. Molina Lucero   19         Argentina       63         75   \n",
       "\n",
       "            Club  Value (M)  Wage (M) Position  \n",
       "0  Korona Kielce       0.07     0.001      CDM  \n",
       "1       Cagliari       0.70     0.010       CM  \n",
       "2       Atalanta       3.70     0.013       RB  \n",
       "3      Stevenage       0.16     0.002       CM  \n",
       "4   Boca Juniors       0.55     0.002       LB  "
      ]
     },
     "execution_count": 2,
     "metadata": {},
     "output_type": "execute_result"
    }
   ],
   "source": [
    "# read the dataset and extract the features and target separately\n",
    "df_train = pd.read_csv(\"train.csv\")\n",
    "df_train.head()"
   ]
  },
  {
   "cell_type": "code",
   "execution_count": 3,
   "metadata": {},
   "outputs": [
    {
     "data": {
      "text/plain": [
       "Id               0\n",
       "Name             0\n",
       "Age              0\n",
       "Nationality      0\n",
       "Overall          0\n",
       "Potential        0\n",
       "Club           211\n",
       "Value (M)        0\n",
       "Wage (M)         0\n",
       "Position         0\n",
       "dtype: int64"
      ]
     },
     "execution_count": 3,
     "metadata": {},
     "output_type": "execute_result"
    }
   ],
   "source": [
    "df_train.isnull().sum()"
   ]
  },
  {
   "cell_type": "markdown",
   "metadata": {},
   "source": [
    "### Visualize the data\n",
    "\n",
    "- Check for the categorical & continuous features. \n",
    "- Check out the best plots for plotting between categorical target and continuous features and try making some inferences from these plots.\n",
    "- Check for the correlation between the features"
   ]
  },
  {
   "cell_type": "code",
   "execution_count": 4,
   "metadata": {},
   "outputs": [],
   "source": [
    "categorical_var = df_train.select_dtypes(include = 'object')\n",
    "categorical_var\n",
    "\n",
    "df_train.drop([\"Name\",\"Nationality\",\"Club\",\"Position\"],axis = 1, inplace = True)"
   ]
  },
  {
   "cell_type": "code",
   "execution_count": 5,
   "metadata": {},
   "outputs": [
    {
     "data": {
      "text/html": [
       "<div>\n",
       "<style scoped>\n",
       "    .dataframe tbody tr th:only-of-type {\n",
       "        vertical-align: middle;\n",
       "    }\n",
       "\n",
       "    .dataframe tbody tr th {\n",
       "        vertical-align: top;\n",
       "    }\n",
       "\n",
       "    .dataframe thead th {\n",
       "        text-align: right;\n",
       "    }\n",
       "</style>\n",
       "<table border=\"1\" class=\"dataframe\">\n",
       "  <thead>\n",
       "    <tr style=\"text-align: right;\">\n",
       "      <th></th>\n",
       "      <th>Id</th>\n",
       "      <th>Age</th>\n",
       "      <th>Overall</th>\n",
       "      <th>Potential</th>\n",
       "      <th>Value (M)</th>\n",
       "      <th>Wage (M)</th>\n",
       "    </tr>\n",
       "  </thead>\n",
       "  <tbody>\n",
       "    <tr>\n",
       "      <th>0</th>\n",
       "      <td>17221</td>\n",
       "      <td>25</td>\n",
       "      <td>54</td>\n",
       "      <td>58</td>\n",
       "      <td>0.07</td>\n",
       "      <td>0.001</td>\n",
       "    </tr>\n",
       "    <tr>\n",
       "      <th>1</th>\n",
       "      <td>11353</td>\n",
       "      <td>21</td>\n",
       "      <td>64</td>\n",
       "      <td>73</td>\n",
       "      <td>0.70</td>\n",
       "      <td>0.010</td>\n",
       "    </tr>\n",
       "    <tr>\n",
       "      <th>2</th>\n",
       "      <td>3402</td>\n",
       "      <td>21</td>\n",
       "      <td>72</td>\n",
       "      <td>79</td>\n",
       "      <td>3.70</td>\n",
       "      <td>0.013</td>\n",
       "    </tr>\n",
       "    <tr>\n",
       "      <th>3</th>\n",
       "      <td>16071</td>\n",
       "      <td>21</td>\n",
       "      <td>57</td>\n",
       "      <td>66</td>\n",
       "      <td>0.16</td>\n",
       "      <td>0.002</td>\n",
       "    </tr>\n",
       "    <tr>\n",
       "      <th>4</th>\n",
       "      <td>12380</td>\n",
       "      <td>19</td>\n",
       "      <td>63</td>\n",
       "      <td>75</td>\n",
       "      <td>0.55</td>\n",
       "      <td>0.002</td>\n",
       "    </tr>\n",
       "  </tbody>\n",
       "</table>\n",
       "</div>"
      ],
      "text/plain": [
       "      Id  Age  Overall  Potential  Value (M)  Wage (M)\n",
       "0  17221   25       54         58       0.07     0.001\n",
       "1  11353   21       64         73       0.70     0.010\n",
       "2   3402   21       72         79       3.70     0.013\n",
       "3  16071   21       57         66       0.16     0.002\n",
       "4  12380   19       63         75       0.55     0.002"
      ]
     },
     "execution_count": 5,
     "metadata": {},
     "output_type": "execute_result"
    }
   ],
   "source": [
    "df_train.head()"
   ]
  },
  {
   "cell_type": "code",
   "execution_count": 6,
   "metadata": {},
   "outputs": [
    {
     "data": {
      "text/html": [
       "<div>\n",
       "<style scoped>\n",
       "    .dataframe tbody tr th:only-of-type {\n",
       "        vertical-align: middle;\n",
       "    }\n",
       "\n",
       "    .dataframe tbody tr th {\n",
       "        vertical-align: top;\n",
       "    }\n",
       "\n",
       "    .dataframe thead th {\n",
       "        text-align: right;\n",
       "    }\n",
       "</style>\n",
       "<table border=\"1\" class=\"dataframe\">\n",
       "  <thead>\n",
       "    <tr style=\"text-align: right;\">\n",
       "      <th></th>\n",
       "      <th>Id</th>\n",
       "      <th>Age</th>\n",
       "      <th>Overall</th>\n",
       "      <th>Potential</th>\n",
       "      <th>Value (M)</th>\n",
       "      <th>Wage (M)</th>\n",
       "    </tr>\n",
       "  </thead>\n",
       "  <tbody>\n",
       "    <tr>\n",
       "      <th>0</th>\n",
       "      <td>17221</td>\n",
       "      <td>25</td>\n",
       "      <td>54</td>\n",
       "      <td>58</td>\n",
       "      <td>0.070</td>\n",
       "      <td>0.001</td>\n",
       "    </tr>\n",
       "    <tr>\n",
       "      <th>1</th>\n",
       "      <td>11353</td>\n",
       "      <td>21</td>\n",
       "      <td>64</td>\n",
       "      <td>73</td>\n",
       "      <td>0.700</td>\n",
       "      <td>0.010</td>\n",
       "    </tr>\n",
       "    <tr>\n",
       "      <th>2</th>\n",
       "      <td>3402</td>\n",
       "      <td>21</td>\n",
       "      <td>72</td>\n",
       "      <td>79</td>\n",
       "      <td>3.700</td>\n",
       "      <td>0.013</td>\n",
       "    </tr>\n",
       "    <tr>\n",
       "      <th>3</th>\n",
       "      <td>16071</td>\n",
       "      <td>21</td>\n",
       "      <td>57</td>\n",
       "      <td>66</td>\n",
       "      <td>0.160</td>\n",
       "      <td>0.002</td>\n",
       "    </tr>\n",
       "    <tr>\n",
       "      <th>4</th>\n",
       "      <td>12380</td>\n",
       "      <td>19</td>\n",
       "      <td>63</td>\n",
       "      <td>75</td>\n",
       "      <td>0.550</td>\n",
       "      <td>0.002</td>\n",
       "    </tr>\n",
       "    <tr>\n",
       "      <th>...</th>\n",
       "      <td>...</td>\n",
       "      <td>...</td>\n",
       "      <td>...</td>\n",
       "      <td>...</td>\n",
       "      <td>...</td>\n",
       "      <td>...</td>\n",
       "    </tr>\n",
       "    <tr>\n",
       "      <th>14379</th>\n",
       "      <td>7243</td>\n",
       "      <td>25</td>\n",
       "      <td>68</td>\n",
       "      <td>69</td>\n",
       "      <td>1.100</td>\n",
       "      <td>0.022</td>\n",
       "    </tr>\n",
       "    <tr>\n",
       "      <th>14380</th>\n",
       "      <td>8527</td>\n",
       "      <td>25</td>\n",
       "      <td>67</td>\n",
       "      <td>70</td>\n",
       "      <td>0.950</td>\n",
       "      <td>0.007</td>\n",
       "    </tr>\n",
       "    <tr>\n",
       "      <th>14381</th>\n",
       "      <td>4714</td>\n",
       "      <td>25</td>\n",
       "      <td>71</td>\n",
       "      <td>76</td>\n",
       "      <td>0.000</td>\n",
       "      <td>0.000</td>\n",
       "    </tr>\n",
       "    <tr>\n",
       "      <th>14382</th>\n",
       "      <td>10196</td>\n",
       "      <td>24</td>\n",
       "      <td>65</td>\n",
       "      <td>70</td>\n",
       "      <td>0.525</td>\n",
       "      <td>0.002</td>\n",
       "    </tr>\n",
       "    <tr>\n",
       "      <th>14383</th>\n",
       "      <td>8419</td>\n",
       "      <td>30</td>\n",
       "      <td>67</td>\n",
       "      <td>67</td>\n",
       "      <td>0.725</td>\n",
       "      <td>0.003</td>\n",
       "    </tr>\n",
       "  </tbody>\n",
       "</table>\n",
       "<p>14384 rows × 6 columns</p>\n",
       "</div>"
      ],
      "text/plain": [
       "          Id  Age  Overall  Potential  Value (M)  Wage (M)\n",
       "0      17221   25       54         58      0.070     0.001\n",
       "1      11353   21       64         73      0.700     0.010\n",
       "2       3402   21       72         79      3.700     0.013\n",
       "3      16071   21       57         66      0.160     0.002\n",
       "4      12380   19       63         75      0.550     0.002\n",
       "...      ...  ...      ...        ...        ...       ...\n",
       "14379   7243   25       68         69      1.100     0.022\n",
       "14380   8527   25       67         70      0.950     0.007\n",
       "14381   4714   25       71         76      0.000     0.000\n",
       "14382  10196   24       65         70      0.525     0.002\n",
       "14383   8419   30       67         67      0.725     0.003\n",
       "\n",
       "[14384 rows x 6 columns]"
      ]
     },
     "execution_count": 6,
     "metadata": {},
     "output_type": "execute_result"
    }
   ],
   "source": [
    "# Code Starts here\n",
    "numerical_var = df_train.select_dtypes(include = 'number')\n",
    "numerical_var\n",
    "# Code ends here"
   ]
  },
  {
   "cell_type": "code",
   "execution_count": 7,
   "metadata": {},
   "outputs": [
    {
     "data": {
      "image/png": "[encoded data removed]",
      "text/plain": [
       "<Figure size 720x288 with 2 Axes>"
      ]
     },
     "metadata": {
      "needs_background": "light"
     },
     "output_type": "display_data"
    },
    {
     "data": {
      "image/png": "[encoded data removed]",
      "text/plain": [
       "<Figure size 432x288 with 1 Axes>"
      ]
     },
     "metadata": {
      "needs_background": "light"
     },
     "output_type": "display_data"
    }
   ],
   "source": [
    "numerical = [\"Potential\",\"Age\",\"Overall\"]\n",
    "for i in range(0,len(numerical),2):\n",
    "    if len(numerical) > i+1:\n",
    "        plt.figure(figsize=(10,4))\n",
    "        plt.subplot(121)\n",
    "        plt.scatter(df_train[numerical[i]],df_train[\"Value (M)\"])\n",
    "        plt.title('Plotting target against '+numerical[i])\n",
    "        plt.xlabel(numerical[i])\n",
    "        plt.ylabel(\"Value (M)\")\n",
    "        \n",
    "        \n",
    "        plt.subplot(122)\n",
    "        plt.scatter(df_train[numerical[i+1]],df_train[\"Value (M)\"])\n",
    "        plt.title('Plotting target against '+numerical[i+1])\n",
    "        plt.xlabel(numerical[i+1])\n",
    "        plt.ylabel(\"Value (M)\")\n",
    "        plt.tight_layout()\n",
    "        plt.show()\n",
    "    else:\n",
    "         plt.scatter(df_train[numerical[i]],df_train[\"Value (M)\"])"
   ]
  },
  {
   "cell_type": "markdown",
   "metadata": {},
   "source": [
    "### Model building\n",
    "\n",
    "- Separate the features and target and then split the train data into train and validation set.\n",
    "- Now let's come to the actual task, using linear regression, predict the `Value (M)`. \n",
    "- Try improving upon the `r2_score` (R-Square) using different parameters that give the best score. You can use higher degree [Polynomial Features of sklearn](https://scikit-learn.org/stable/modules/generated/sklearn.preprocessing.PolynomialFeatures.html) to improve the model prediction. \n",
    "\n"
   ]
  },
  {
   "cell_type": "code",
   "execution_count": 8,
   "metadata": {},
   "outputs": [
    {
     "data": {
      "text/plain": [
       "Index(['Id', 'Age', 'Overall', 'Potential', 'Value (M)', 'Wage (M)'], dtype='object')"
      ]
     },
     "execution_count": 8,
     "metadata": {},
     "output_type": "execute_result"
    }
   ],
   "source": [
    "df_train.columns"
   ]
  },
  {
   "cell_type": "code",
   "execution_count": 9,
   "metadata": {},
   "outputs": [
    {
     "name": "stdout",
     "output_type": "stream",
     "text": [
      "(10068, 5)\n",
      "(10068,)\n"
     ]
    }
   ],
   "source": [
    "# Code Starts here\n",
    "X = df_train[['Id', 'Age', 'Overall', 'Potential', 'Wage (M)']]\n",
    "y = df_train[\"Value (M)\"]\n",
    "\n",
    "X_train,X_val,y_train,y_val = train_test_split(X, y, test_size = 0.3,random_state = 6)\n",
    "\n",
    "print(X_train.shape)\n",
    "print(y_train.shape)\n",
    "# Code ends here"
   ]
  },
  {
   "cell_type": "code",
   "execution_count": 10,
   "metadata": {},
   "outputs": [
    {
     "name": "stdout",
     "output_type": "stream",
     "text": [
      "<class 'pandas.core.frame.DataFrame'>\n",
      "RangeIndex: 14384 entries, 0 to 14383\n",
      "Data columns (total 6 columns):\n",
      " #   Column     Non-Null Count  Dtype  \n",
      "---  ------     --------------  -----  \n",
      " 0   Id         14384 non-null  int64  \n",
      " 1   Age        14384 non-null  int64  \n",
      " 2   Overall    14384 non-null  int64  \n",
      " 3   Potential  14384 non-null  int64  \n",
      " 4   Value (M)  14384 non-null  float64\n",
      " 5   Wage (M)   14384 non-null  float64\n",
      "dtypes: float64(2), int64(4)\n",
      "memory usage: 674.4 KB\n"
     ]
    }
   ],
   "source": [
    "df_train.info()"
   ]
  },
  {
   "cell_type": "code",
   "execution_count": 29,
   "metadata": {},
   "outputs": [
    {
     "data": {
      "text/plain": [
       "array([ 1.22630803,  2.48172582, -1.05388527, ...,  1.12725994,\n",
       "        1.65126175,  2.01239771])"
      ]
     },
     "execution_count": 29,
     "metadata": {},
     "output_type": "execute_result"
    }
   ],
   "source": [
    "regressor = LinearRegression()\n",
    "\n",
    "regressor.fit(X_train,y_train)\n",
    "\n",
    "y_pred = regressor.predict(X_val)\n",
    "y_pred"
   ]
  },
  {
   "cell_type": "code",
   "execution_count": 12,
   "metadata": {},
   "outputs": [
    {
     "data": {
      "text/plain": [
       "0.7923578038347576"
      ]
     },
     "execution_count": 12,
     "metadata": {},
     "output_type": "execute_result"
    }
   ],
   "source": [
    "#Calculate R^2\n",
    "r2 = r2_score(y_val,y_pred)\n",
    "r2"
   ]
  },
  {
   "cell_type": "code",
   "execution_count": 40,
   "metadata": {},
   "outputs": [
    {
     "data": {
      "text/plain": [
       "0.9592632178542835"
      ]
     },
     "execution_count": 40,
     "metadata": {},
     "output_type": "execute_result"
    }
   ],
   "source": [
    "from sklearn.preprocessing import PolynomialFeatures\n",
    "\n",
    "poly = PolynomialFeatures(2)\n",
    "X_train_poly = poly.fit_transform(X_train)\n",
    "X_val_poly = poly.transform(X_val)\n",
    "\n",
    "regressor.fit(X_train_poly, y_train)\n",
    "y_pred_poly = regressor.predict(X_val_poly)\n",
    "\n",
    "r2 = r2_score(y_val,y_pred_poly)\n",
    "r2"
   ]
  },
  {
   "cell_type": "markdown",
   "metadata": {},
   "source": [
    "### Prediction on the test data and creating the sample submission file.\n",
    "\n",
    "- Load the test data and store the `Id` column in a separate variable.\n",
    "- Perform the same operations on the test data that you have performed on the train data.\n",
    "- Create the submission file as a `csv` file consisting of the `Id` column from the test data and your prediction as the second column."
   ]
  },
  {
   "cell_type": "code",
   "execution_count": 31,
   "metadata": {},
   "outputs": [],
   "source": [
    "df_test = pd.read_csv(\"test.csv\")\n"
   ]
  },
  {
   "cell_type": "code",
   "execution_count": 23,
   "metadata": {},
   "outputs": [
    {
     "data": {
      "text/plain": [
       "Index(['Id', 'Age', 'Overall', 'Potential', 'Wage (M)'], dtype='object')"
      ]
     },
     "execution_count": 23,
     "metadata": {},
     "output_type": "execute_result"
    }
   ],
   "source": [
    "df_test.shape\n",
    "df_test.columns"
   ]
  },
  {
   "cell_type": "code",
   "execution_count": 32,
   "metadata": {},
   "outputs": [],
   "source": [
    "# Code Starts here\n",
    "df_test.drop([\"Name\",\"Nationality\",\"Club\",\"Position\"],axis = 1, inplace = True)\n",
    "# Code ends here"
   ]
  },
  {
   "cell_type": "code",
   "execution_count": 34,
   "metadata": {},
   "outputs": [],
   "source": [
    "id = df_test[\"Id\"]\n"
   ]
  },
  {
   "cell_type": "code",
   "execution_count": 33,
   "metadata": {},
   "outputs": [
    {
     "data": {
      "text/plain": [
       "array([12.65384644, 19.7845183 ,  2.64925318, ...,  0.77871298,\n",
       "       13.38363925,  5.55373984])"
      ]
     },
     "execution_count": 33,
     "metadata": {},
     "output_type": "execute_result"
    }
   ],
   "source": [
    "y_pred_df_test = regressor.predict(df_test)\n",
    "y_pred_df_test"
   ]
  },
  {
   "cell_type": "code",
   "execution_count": 41,
   "metadata": {},
   "outputs": [],
   "source": [
    "poly1 = PolynomialFeatures(2)\n",
    "df_test_poly1 = poly1.fit_transform(df_test)\n",
    "#df_test_poly = poly.transform(df_test)\n"
   ]
  },
  {
   "cell_type": "code",
   "execution_count": 43,
   "metadata": {},
   "outputs": [
    {
     "data": {
      "text/plain": [
       "array([19.27652031, 18.48601298,  1.64697968, ...,  0.86386543,\n",
       "        9.62933386,  4.20976707])"
      ]
     },
     "execution_count": 43,
     "metadata": {},
     "output_type": "execute_result"
    }
   ],
   "source": [
    "\n",
    "#regressor.fit(df_test_poly1, y_train)\n",
    "y_pred_poly = regressor.predict(df_test_poly)\n",
    "y_pred_poly"
   ]
  },
  {
   "cell_type": "code",
   "execution_count": 45,
   "metadata": {},
   "outputs": [],
   "source": [
    "final_sub = pd.DataFrame({\"Id\": id, \"Value (M)\": y_pred_poly})\n",
    "#final_sub"
   ]
  },
  {
   "cell_type": "code",
   "execution_count": 46,
   "metadata": {},
   "outputs": [],
   "source": [
    "final_sub.to_csv(\"FIFA_Submission.csv\", index=False)"
   ]
  }
 ],
 "metadata": {
  "kernelspec": {
   "display_name": "Python 3",
   "language": "python",
   "name": "python3"
  },
  "language_info": {
   "codemirror_mode": {
    "name": "ipython",
    "version": 3
   },
   "file_extension": ".py",
   "mimetype": "text/x-python",
   "name": "python",
   "nbconvert_exporter": "python",
   "pygments_lexer": "ipython3",
   "version": "3.7.6"
  }
 },
 "nbformat": 4,
 "nbformat_minor": 4
}
